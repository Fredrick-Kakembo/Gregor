{
  "nbformat": 4,
  "nbformat_minor": 0,
  "metadata": {
    "colab": {
      "name": "Python_Code.ipynb",
      "provenance": [],
      "authorship_tag": "ABX9TyNLJQ/3L6Yb361sUBo3oYLj",
      "include_colab_link": true
    },
    "kernelspec": {
      "name": "python3",
      "display_name": "Python 3"
    },
    "language_info": {
      "name": "python"
    }
  },
  "cells": [
    {
      "cell_type": "markdown",
      "metadata": {
        "id": "view-in-github",
        "colab_type": "text"
      },
      "source": [
        "<a href=\"https://colab.research.google.com/github/PablaOO7/Gregor/blob/main/Python_Code.ipynb\" target=\"_parent\"><img src=\"https://colab.research.google.com/assets/colab-badge.svg\" alt=\"Open In Colab\"/></a>"
      ]
    },
    {
      "cell_type": "code",
      "metadata": {
        "colab": {
          "base_uri": "https://localhost:8080/"
        },
        "id": "fu-SwoE5vNde",
        "outputId": "850694c7-5e1d-4888-a566-6f6a172e31d1"
      },
      "source": [
        "name = \"Jaspreet\"\n",
        "email = \"pablajaspreet94@gmail.com\"\n",
        "slack_User = \"@Jaspreet\"\n",
        "biostack = \"Genomics\"\n",
        " \n",
        "print (\"Name: \"+name, \"Email: \"+email, \"Slack Username: \" +slack_User, \"Biostack: \"+biostack, sep = \"\\n\")"
      ],
      "execution_count": 1,
      "outputs": [
        {
          "output_type": "stream",
          "text": [
            "Name: Jaspreet\n",
            "Email: pablajaspreet94@gmail.com\n",
            "Slack Username: @Jaspreet\n",
            "Biostack: Genomics\n"
          ],
          "name": "stdout"
        }
      ]
    }
  ]
}
